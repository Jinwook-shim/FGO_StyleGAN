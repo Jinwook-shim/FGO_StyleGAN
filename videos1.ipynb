{
 "cells": [
  {
   "cell_type": "code",
   "execution_count": 1,
   "metadata": {},
   "outputs": [],
   "source": [
    "\n",
    "import dnnlib.tflib as tflib\n",
    "import math\n",
    "import moviepy.editor\n",
    "from numpy import linalg\n",
    "import numpy as np\n",
    "import pickle"
   ]
  },
  {
   "cell_type": "code",
   "execution_count": 2,
   "metadata": {},
   "outputs": [
    {
     "name": "stdout",
     "output_type": "stream",
     "text": [
      "on round 0\n",
      "WARNING:tensorflow:From D:\\Users\\micha\\Anaconda3\\envs\\tensorflow_env\\lib\\site-packages\\tensorflow\\python\\framework\\op_def_library.py:263: colocate_with (from tensorflow.python.framework.ops) is deprecated and will be removed in a future version.\n",
      "Instructions for updating:\n",
      "Colocations handled automatically by placer.\n",
      "Moviepy - Building video GoT_videos/second_round2_0.mp4.\n",
      "Moviepy - Writing video GoT_videos/second_round2_0.mp4\n",
      "\n"
     ]
    },
    {
     "name": "stderr",
     "output_type": "stream",
     "text": [
      "                                                                                                                       \r"
     ]
    },
    {
     "name": "stdout",
     "output_type": "stream",
     "text": [
      "Moviepy - Done !\n",
      "Moviepy - video ready GoT_videos/second_round2_0.mp4\n",
      "on round 1\n",
      "Moviepy - Building video GoT_videos/second_round2_1.mp4.\n",
      "Moviepy - Writing video GoT_videos/second_round2_1.mp4\n",
      "\n"
     ]
    },
    {
     "name": "stderr",
     "output_type": "stream",
     "text": [
      "                                                                                                                       \r"
     ]
    },
    {
     "name": "stdout",
     "output_type": "stream",
     "text": [
      "Moviepy - Done !\n",
      "Moviepy - video ready GoT_videos/second_round2_1.mp4\n",
      "on round 2\n",
      "Moviepy - Building video GoT_videos/second_round2_2.mp4.\n",
      "Moviepy - Writing video GoT_videos/second_round2_2.mp4\n",
      "\n"
     ]
    },
    {
     "name": "stderr",
     "output_type": "stream",
     "text": [
      "                                                                                                                       \r"
     ]
    },
    {
     "name": "stdout",
     "output_type": "stream",
     "text": [
      "Moviepy - Done !\n",
      "Moviepy - video ready GoT_videos/second_round2_2.mp4\n",
      "on round 3\n",
      "Moviepy - Building video GoT_videos/second_round2_3.mp4.\n",
      "Moviepy - Writing video GoT_videos/second_round2_3.mp4\n",
      "\n"
     ]
    },
    {
     "name": "stderr",
     "output_type": "stream",
     "text": [
      "                                                                                                                       \r"
     ]
    },
    {
     "name": "stdout",
     "output_type": "stream",
     "text": [
      "Moviepy - Done !\n",
      "Moviepy - video ready GoT_videos/second_round2_3.mp4\n",
      "on round 4\n",
      "Moviepy - Building video GoT_videos/second_round2_4.mp4.\n",
      "Moviepy - Writing video GoT_videos/second_round2_4.mp4\n",
      "\n"
     ]
    },
    {
     "name": "stderr",
     "output_type": "stream",
     "text": [
      "                                                                                                                       \r"
     ]
    },
    {
     "name": "stdout",
     "output_type": "stream",
     "text": [
      "Moviepy - Done !\n",
      "Moviepy - video ready GoT_videos/second_round2_4.mp4\n",
      "on round 5\n",
      "Moviepy - Building video GoT_videos/second_round2_5.mp4.\n",
      "Moviepy - Writing video GoT_videos/second_round2_5.mp4\n",
      "\n"
     ]
    },
    {
     "name": "stderr",
     "output_type": "stream",
     "text": [
      "                                                                                                                       \r"
     ]
    },
    {
     "name": "stdout",
     "output_type": "stream",
     "text": [
      "Moviepy - Done !\n",
      "Moviepy - video ready GoT_videos/second_round2_5.mp4\n",
      "on round 6\n",
      "Moviepy - Building video GoT_videos/second_round2_6.mp4.\n",
      "Moviepy - Writing video GoT_videos/second_round2_6.mp4\n",
      "\n"
     ]
    },
    {
     "name": "stderr",
     "output_type": "stream",
     "text": [
      "                                                                                                                       \r"
     ]
    },
    {
     "name": "stdout",
     "output_type": "stream",
     "text": [
      "Moviepy - Done !\n",
      "Moviepy - video ready GoT_videos/second_round2_6.mp4\n",
      "on round 7\n",
      "Moviepy - Building video GoT_videos/second_round2_7.mp4.\n",
      "Moviepy - Writing video GoT_videos/second_round2_7.mp4\n",
      "\n"
     ]
    },
    {
     "name": "stderr",
     "output_type": "stream",
     "text": [
      "                                                                                                                       \r"
     ]
    },
    {
     "name": "stdout",
     "output_type": "stream",
     "text": [
      "Moviepy - Done !\n",
      "Moviepy - video ready GoT_videos/second_round2_7.mp4\n",
      "on round 8\n",
      "Moviepy - Building video GoT_videos/second_round2_8.mp4.\n",
      "Moviepy - Writing video GoT_videos/second_round2_8.mp4\n",
      "\n"
     ]
    },
    {
     "name": "stderr",
     "output_type": "stream",
     "text": [
      "                                                                                                                       \r"
     ]
    },
    {
     "name": "stdout",
     "output_type": "stream",
     "text": [
      "Moviepy - Done !\n",
      "Moviepy - video ready GoT_videos/second_round2_8.mp4\n",
      "on round 9\n",
      "Moviepy - Building video GoT_videos/second_round2_9.mp4.\n",
      "Moviepy - Writing video GoT_videos/second_round2_9.mp4\n",
      "\n"
     ]
    },
    {
     "name": "stderr",
     "output_type": "stream",
     "text": [
      "                                                                                                                       \r"
     ]
    },
    {
     "name": "stdout",
     "output_type": "stream",
     "text": [
      "Moviepy - Done !\n",
      "Moviepy - video ready GoT_videos/second_round2_9.mp4\n",
      "on round 10\n",
      "Moviepy - Building video GoT_videos/second_round2_10.mp4.\n",
      "Moviepy - Writing video GoT_videos/second_round2_10.mp4\n",
      "\n"
     ]
    },
    {
     "name": "stderr",
     "output_type": "stream",
     "text": [
      "                                                                                                                       \r"
     ]
    },
    {
     "name": "stdout",
     "output_type": "stream",
     "text": [
      "Moviepy - Done !\n",
      "Moviepy - video ready GoT_videos/second_round2_10.mp4\n",
      "on round 11\n",
      "Moviepy - Building video GoT_videos/second_round2_11.mp4.\n",
      "Moviepy - Writing video GoT_videos/second_round2_11.mp4\n",
      "\n"
     ]
    },
    {
     "name": "stderr",
     "output_type": "stream",
     "text": [
      "                                                                                                                       \r"
     ]
    },
    {
     "name": "stdout",
     "output_type": "stream",
     "text": [
      "Moviepy - Done !\n",
      "Moviepy - video ready GoT_videos/second_round2_11.mp4\n",
      "on round 12\n",
      "Moviepy - Building video GoT_videos/second_round2_12.mp4.\n",
      "Moviepy - Writing video GoT_videos/second_round2_12.mp4\n",
      "\n"
     ]
    },
    {
     "name": "stderr",
     "output_type": "stream",
     "text": [
      "                                                                                                                       \r"
     ]
    },
    {
     "name": "stdout",
     "output_type": "stream",
     "text": [
      "Moviepy - Done !\n",
      "Moviepy - video ready GoT_videos/second_round2_12.mp4\n",
      "on round 13\n",
      "Moviepy - Building video GoT_videos/second_round2_13.mp4.\n",
      "Moviepy - Writing video GoT_videos/second_round2_13.mp4\n",
      "\n"
     ]
    },
    {
     "name": "stderr",
     "output_type": "stream",
     "text": [
      "                                                                                                                       \r"
     ]
    },
    {
     "name": "stdout",
     "output_type": "stream",
     "text": [
      "Moviepy - Done !\n",
      "Moviepy - video ready GoT_videos/second_round2_13.mp4\n",
      "on round 14\n",
      "Moviepy - Building video GoT_videos/second_round2_14.mp4.\n",
      "Moviepy - Writing video GoT_videos/second_round2_14.mp4\n",
      "\n"
     ]
    },
    {
     "name": "stderr",
     "output_type": "stream",
     "text": [
      "                                                                                                                       \r"
     ]
    },
    {
     "name": "stdout",
     "output_type": "stream",
     "text": [
      "Moviepy - Done !\n",
      "Moviepy - video ready GoT_videos/second_round2_14.mp4\n",
      "on round 15\n",
      "Moviepy - Building video GoT_videos/second_round2_15.mp4.\n",
      "Moviepy - Writing video GoT_videos/second_round2_15.mp4\n",
      "\n"
     ]
    },
    {
     "name": "stderr",
     "output_type": "stream",
     "text": [
      "                                                                                                                       \r"
     ]
    },
    {
     "name": "stdout",
     "output_type": "stream",
     "text": [
      "Moviepy - Done !\n",
      "Moviepy - video ready GoT_videos/second_round2_15.mp4\n",
      "on round 16\n",
      "Moviepy - Building video GoT_videos/second_round2_16.mp4.\n",
      "Moviepy - Writing video GoT_videos/second_round2_16.mp4\n",
      "\n"
     ]
    },
    {
     "name": "stderr",
     "output_type": "stream",
     "text": [
      "                                                                                                                       \r"
     ]
    },
    {
     "name": "stdout",
     "output_type": "stream",
     "text": [
      "Moviepy - Done !\n",
      "Moviepy - video ready GoT_videos/second_round2_16.mp4\n",
      "on round 17\n",
      "Moviepy - Building video GoT_videos/second_round2_17.mp4.\n",
      "Moviepy - Writing video GoT_videos/second_round2_17.mp4\n",
      "\n"
     ]
    },
    {
     "name": "stderr",
     "output_type": "stream",
     "text": [
      "                                                                                                                       \r"
     ]
    },
    {
     "name": "stdout",
     "output_type": "stream",
     "text": [
      "Moviepy - Done !\n",
      "Moviepy - video ready GoT_videos/second_round2_17.mp4\n",
      "on round 18\n",
      "Moviepy - Building video GoT_videos/second_round2_18.mp4.\n",
      "Moviepy - Writing video GoT_videos/second_round2_18.mp4\n",
      "\n"
     ]
    },
    {
     "name": "stderr",
     "output_type": "stream",
     "text": [
      "                                                                                                                       \r"
     ]
    },
    {
     "name": "stdout",
     "output_type": "stream",
     "text": [
      "Moviepy - Done !\n",
      "Moviepy - video ready GoT_videos/second_round2_18.mp4\n",
      "on round 19\n"
     ]
    },
    {
     "ename": "ResourceExhaustedError",
     "evalue": "OOM when allocating tensor with shape[1,64,256,256] and type float on /job:localhost/replica:0/task:0/device:GPU:0 by allocator GPU_0_bfc\n\t [[node Gs_19/_Run/Gs/G_synthesis/cond/cond/cond/cond/cond/256x256/Conv0_up/conv2d_transpose (defined at <string>:191) ]]\nHint: If you want to see a list of allocated tensors when OOM happens, add report_tensor_allocations_upon_oom to RunOptions for current allocation info.\n\n\t [[node Gs_19/_Run/saturate_cast (defined at C:\\Users\\micha\\Desktop\\projects\\stylegan\\dnnlib\\tflib\\tfutil.py:240) ]]\nHint: If you want to see a list of allocated tensors when OOM happens, add report_tensor_allocations_upon_oom to RunOptions for current allocation info.\n\n\nCaused by op 'Gs_19/_Run/Gs/G_synthesis/cond/cond/cond/cond/cond/256x256/Conv0_up/conv2d_transpose', defined at:\n  File \"D:\\Users\\micha\\Anaconda3\\envs\\tensorflow_env\\lib\\runpy.py\", line 193, in _run_module_as_main\n    \"__main__\", mod_spec)\n  File \"D:\\Users\\micha\\Anaconda3\\envs\\tensorflow_env\\lib\\runpy.py\", line 85, in _run_code\n    exec(code, run_globals)\n  File \"D:\\Users\\micha\\Anaconda3\\envs\\tensorflow_env\\lib\\site-packages\\ipykernel_launcher.py\", line 16, in <module>\n    app.launch_new_instance()\n  File \"D:\\Users\\micha\\Anaconda3\\envs\\tensorflow_env\\lib\\site-packages\\traitlets\\config\\application.py\", line 658, in launch_instance\n    app.start()\n  File \"D:\\Users\\micha\\Anaconda3\\envs\\tensorflow_env\\lib\\site-packages\\ipykernel\\kernelapp.py\", line 505, in start\n    self.io_loop.start()\n  File \"D:\\Users\\micha\\Anaconda3\\envs\\tensorflow_env\\lib\\site-packages\\tornado\\platform\\asyncio.py\", line 148, in start\n    self.asyncio_loop.run_forever()\n  File \"D:\\Users\\micha\\Anaconda3\\envs\\tensorflow_env\\lib\\asyncio\\base_events.py\", line 539, in run_forever\n    self._run_once()\n  File \"D:\\Users\\micha\\Anaconda3\\envs\\tensorflow_env\\lib\\asyncio\\base_events.py\", line 1775, in _run_once\n    handle._run()\n  File \"D:\\Users\\micha\\Anaconda3\\envs\\tensorflow_env\\lib\\asyncio\\events.py\", line 88, in _run\n    self._context.run(self._callback, *self._args)\n  File \"D:\\Users\\micha\\Anaconda3\\envs\\tensorflow_env\\lib\\site-packages\\tornado\\ioloop.py\", line 690, in <lambda>\n    lambda f: self._run_callback(functools.partial(callback, future))\n  File \"D:\\Users\\micha\\Anaconda3\\envs\\tensorflow_env\\lib\\site-packages\\tornado\\ioloop.py\", line 743, in _run_callback\n    ret = callback()\n  File \"D:\\Users\\micha\\Anaconda3\\envs\\tensorflow_env\\lib\\site-packages\\tornado\\gen.py\", line 781, in inner\n    self.run()\n  File \"D:\\Users\\micha\\Anaconda3\\envs\\tensorflow_env\\lib\\site-packages\\tornado\\gen.py\", line 742, in run\n    yielded = self.gen.send(value)\n  File \"D:\\Users\\micha\\Anaconda3\\envs\\tensorflow_env\\lib\\site-packages\\ipykernel\\kernelbase.py\", line 370, in dispatch_queue\n    yield self.process_one()\n  File \"D:\\Users\\micha\\Anaconda3\\envs\\tensorflow_env\\lib\\site-packages\\tornado\\gen.py\", line 225, in wrapper\n    runner = Runner(result, future, yielded)\n  File \"D:\\Users\\micha\\Anaconda3\\envs\\tensorflow_env\\lib\\site-packages\\tornado\\gen.py\", line 708, in __init__\n    self.run()\n  File \"D:\\Users\\micha\\Anaconda3\\envs\\tensorflow_env\\lib\\site-packages\\tornado\\gen.py\", line 742, in run\n    yielded = self.gen.send(value)\n  File \"D:\\Users\\micha\\Anaconda3\\envs\\tensorflow_env\\lib\\site-packages\\ipykernel\\kernelbase.py\", line 357, in process_one\n    yield gen.maybe_future(dispatch(*args))\n  File \"D:\\Users\\micha\\Anaconda3\\envs\\tensorflow_env\\lib\\site-packages\\tornado\\gen.py\", line 209, in wrapper\n    yielded = next(result)\n  File \"D:\\Users\\micha\\Anaconda3\\envs\\tensorflow_env\\lib\\site-packages\\ipykernel\\kernelbase.py\", line 267, in dispatch_shell\n    yield gen.maybe_future(handler(stream, idents, msg))\n  File \"D:\\Users\\micha\\Anaconda3\\envs\\tensorflow_env\\lib\\site-packages\\tornado\\gen.py\", line 209, in wrapper\n    yielded = next(result)\n  File \"D:\\Users\\micha\\Anaconda3\\envs\\tensorflow_env\\lib\\site-packages\\ipykernel\\kernelbase.py\", line 534, in execute_request\n    user_expressions, allow_stdin,\n  File \"D:\\Users\\micha\\Anaconda3\\envs\\tensorflow_env\\lib\\site-packages\\tornado\\gen.py\", line 209, in wrapper\n    yielded = next(result)\n  File \"D:\\Users\\micha\\Anaconda3\\envs\\tensorflow_env\\lib\\site-packages\\ipykernel\\ipkernel.py\", line 294, in do_execute\n    res = shell.run_cell(code, store_history=store_history, silent=silent)\n  File \"D:\\Users\\micha\\Anaconda3\\envs\\tensorflow_env\\lib\\site-packages\\ipykernel\\zmqshell.py\", line 536, in run_cell\n    return super(ZMQInteractiveShell, self).run_cell(*args, **kwargs)\n  File \"D:\\Users\\micha\\Anaconda3\\envs\\tensorflow_env\\lib\\site-packages\\IPython\\core\\interactiveshell.py\", line 2848, in run_cell\n    raw_cell, store_history, silent, shell_futures)\n  File \"D:\\Users\\micha\\Anaconda3\\envs\\tensorflow_env\\lib\\site-packages\\IPython\\core\\interactiveshell.py\", line 2874, in _run_cell\n    return runner(coro)\n  File \"D:\\Users\\micha\\Anaconda3\\envs\\tensorflow_env\\lib\\site-packages\\IPython\\core\\async_helpers.py\", line 67, in _pseudo_sync_runner\n    coro.send(None)\n  File \"D:\\Users\\micha\\Anaconda3\\envs\\tensorflow_env\\lib\\site-packages\\IPython\\core\\interactiveshell.py\", line 3049, in run_cell_async\n    interactivity=interactivity, compiler=compiler, result=result)\n  File \"D:\\Users\\micha\\Anaconda3\\envs\\tensorflow_env\\lib\\site-packages\\IPython\\core\\interactiveshell.py\", line 3214, in run_ast_nodes\n    if (yield from self.run_code(code, result)):\n  File \"D:\\Users\\micha\\Anaconda3\\envs\\tensorflow_env\\lib\\site-packages\\IPython\\core\\interactiveshell.py\", line 3296, in run_code\n    exec(code_obj, self.user_global_ns, self.user_ns)\n  File \"<ipython-input-2-d3f2a2f9d552>\", line 82, in <module>\n    main()\n  File \"<ipython-input-2-d3f2a2f9d552>\", line 70, in main\n    frames = generate_from_generator_adaptive(circ_generator)\n  File \"<ipython-input-2-d3f2a2f9d552>\", line 39, in generate_from_generator_adaptive\n    current_image = Gs.run(current_latent, None, truncation_psi=0.7, randomize_noise=False, output_transform=fmt)[0]\n  File \"C:\\Users\\micha\\Desktop\\projects\\stylegan\\dnnlib\\tflib\\network.py\", line 418, in run\n    out_gpu = net_gpu.get_output_for(*in_gpu, return_as_list=True, **dynamic_kwargs)\n  File \"C:\\Users\\micha\\Desktop\\projects\\stylegan\\dnnlib\\tflib\\network.py\", line 222, in get_output_for\n    out_expr = self._build_func(*final_inputs, **build_kwargs)\n  File \"<string>\", line 378, in G_style\n  File \"C:\\Users\\micha\\Desktop\\projects\\stylegan\\dnnlib\\tflib\\network.py\", line 222, in get_output_for\n    out_expr = self._build_func(*final_inputs, **build_kwargs)\n  File \"<string>\", line 556, in G_synthesis\n  File \"<string>\", line 555, in grow\n  File \"<string>\", line 549, in <lambda>\n  File \"D:\\Users\\micha\\Anaconda3\\envs\\tensorflow_env\\lib\\site-packages\\tensorflow\\python\\util\\deprecation.py\", line 507, in new_func\n    return func(*args, **kwargs)\n  File \"D:\\Users\\micha\\Anaconda3\\envs\\tensorflow_env\\lib\\site-packages\\tensorflow\\python\\ops\\control_flow_ops.py\", line 2097, in cond\n    orig_res_t, res_t = context_t.BuildCondBranch(true_fn)\n  File \"D:\\Users\\micha\\Anaconda3\\envs\\tensorflow_env\\lib\\site-packages\\tensorflow\\python\\ops\\control_flow_ops.py\", line 1941, in BuildCondBranch\n    original_result = fn()\n  File \"<string>\", line 554, in <lambda>\n  File \"<string>\", line 555, in grow\n  File \"<string>\", line 549, in <lambda>\n  File \"D:\\Users\\micha\\Anaconda3\\envs\\tensorflow_env\\lib\\site-packages\\tensorflow\\python\\util\\deprecation.py\", line 507, in new_func\n    return func(*args, **kwargs)\n  File \"D:\\Users\\micha\\Anaconda3\\envs\\tensorflow_env\\lib\\site-packages\\tensorflow\\python\\ops\\control_flow_ops.py\", line 2097, in cond\n    orig_res_t, res_t = context_t.BuildCondBranch(true_fn)\n  File \"D:\\Users\\micha\\Anaconda3\\envs\\tensorflow_env\\lib\\site-packages\\tensorflow\\python\\ops\\control_flow_ops.py\", line 1941, in BuildCondBranch\n    original_result = fn()\n  File \"<string>\", line 554, in <lambda>\n  File \"<string>\", line 555, in grow\n  File \"<string>\", line 549, in <lambda>\n  File \"D:\\Users\\micha\\Anaconda3\\envs\\tensorflow_env\\lib\\site-packages\\tensorflow\\python\\util\\deprecation.py\", line 507, in new_func\n    return func(*args, **kwargs)\n  File \"D:\\Users\\micha\\Anaconda3\\envs\\tensorflow_env\\lib\\site-packages\\tensorflow\\python\\ops\\control_flow_ops.py\", line 2097, in cond\n    orig_res_t, res_t = context_t.BuildCondBranch(true_fn)\n  File \"D:\\Users\\micha\\Anaconda3\\envs\\tensorflow_env\\lib\\site-packages\\tensorflow\\python\\ops\\control_flow_ops.py\", line 1941, in BuildCondBranch\n    original_result = fn()\n  File \"<string>\", line 554, in <lambda>\n  File \"<string>\", line 555, in grow\n  File \"<string>\", line 549, in <lambda>\n  File \"D:\\Users\\micha\\Anaconda3\\envs\\tensorflow_env\\lib\\site-packages\\tensorflow\\python\\util\\deprecation.py\", line 507, in new_func\n    return func(*args, **kwargs)\n  File \"D:\\Users\\micha\\Anaconda3\\envs\\tensorflow_env\\lib\\site-packages\\tensorflow\\python\\ops\\control_flow_ops.py\", line 2097, in cond\n    orig_res_t, res_t = context_t.BuildCondBranch(true_fn)\n  File \"D:\\Users\\micha\\Anaconda3\\envs\\tensorflow_env\\lib\\site-packages\\tensorflow\\python\\ops\\control_flow_ops.py\", line 1941, in BuildCondBranch\n    original_result = fn()\n  File \"<string>\", line 554, in <lambda>\n  File \"<string>\", line 555, in grow\n  File \"<string>\", line 549, in <lambda>\n  File \"D:\\Users\\micha\\Anaconda3\\envs\\tensorflow_env\\lib\\site-packages\\tensorflow\\python\\util\\deprecation.py\", line 507, in new_func\n    return func(*args, **kwargs)\n  File \"D:\\Users\\micha\\Anaconda3\\envs\\tensorflow_env\\lib\\site-packages\\tensorflow\\python\\ops\\control_flow_ops.py\", line 2097, in cond\n    orig_res_t, res_t = context_t.BuildCondBranch(true_fn)\n  File \"D:\\Users\\micha\\Anaconda3\\envs\\tensorflow_env\\lib\\site-packages\\tensorflow\\python\\ops\\control_flow_ops.py\", line 1941, in BuildCondBranch\n    original_result = fn()\n  File \"<string>\", line 554, in <lambda>\n  File \"<string>\", line 551, in grow\n  File \"<string>\", line 520, in block\n  File \"<string>\", line 191, in upscale2d_conv2d\n  File \"D:\\Users\\micha\\Anaconda3\\envs\\tensorflow_env\\lib\\site-packages\\tensorflow\\python\\ops\\nn_ops.py\", line 1654, in conv2d_transpose\n    name=name)\n  File \"D:\\Users\\micha\\Anaconda3\\envs\\tensorflow_env\\lib\\site-packages\\tensorflow\\python\\ops\\gen_nn_ops.py\", line 1307, in conv2d_backprop_input\n    name=name)\n  File \"D:\\Users\\micha\\Anaconda3\\envs\\tensorflow_env\\lib\\site-packages\\tensorflow\\python\\framework\\op_def_library.py\", line 788, in _apply_op_helper\n    op_def=op_def)\n  File \"D:\\Users\\micha\\Anaconda3\\envs\\tensorflow_env\\lib\\site-packages\\tensorflow\\python\\util\\deprecation.py\", line 507, in new_func\n    return func(*args, **kwargs)\n  File \"D:\\Users\\micha\\Anaconda3\\envs\\tensorflow_env\\lib\\site-packages\\tensorflow\\python\\framework\\ops.py\", line 3300, in create_op\n    op_def=op_def)\n  File \"D:\\Users\\micha\\Anaconda3\\envs\\tensorflow_env\\lib\\site-packages\\tensorflow\\python\\framework\\ops.py\", line 1801, in __init__\n    self._traceback = tf_stack.extract_stack()\n\nResourceExhaustedError (see above for traceback): OOM when allocating tensor with shape[1,64,256,256] and type float on /job:localhost/replica:0/task:0/device:GPU:0 by allocator GPU_0_bfc\n\t [[node Gs_19/_Run/Gs/G_synthesis/cond/cond/cond/cond/cond/256x256/Conv0_up/conv2d_transpose (defined at <string>:191) ]]\nHint: If you want to see a list of allocated tensors when OOM happens, add report_tensor_allocations_upon_oom to RunOptions for current allocation info.\n\n\t [[node Gs_19/_Run/saturate_cast (defined at C:\\Users\\micha\\Desktop\\projects\\stylegan\\dnnlib\\tflib\\tfutil.py:240) ]]\nHint: If you want to see a list of allocated tensors when OOM happens, add report_tensor_allocations_upon_oom to RunOptions for current allocation info.\n\n",
     "output_type": "error",
     "traceback": [
      "\u001b[1;31m---------------------------------------------------------------------------\u001b[0m",
      "\u001b[1;31mResourceExhaustedError\u001b[0m                    Traceback (most recent call last)",
      "\u001b[1;32mD:\\Users\\micha\\Anaconda3\\envs\\tensorflow_env\\lib\\site-packages\\tensorflow\\python\\client\\session.py\u001b[0m in \u001b[0;36m_do_call\u001b[1;34m(self, fn, *args)\u001b[0m\n\u001b[0;32m   1333\u001b[0m     \u001b[1;32mtry\u001b[0m\u001b[1;33m:\u001b[0m\u001b[1;33m\u001b[0m\u001b[1;33m\u001b[0m\u001b[0m\n\u001b[1;32m-> 1334\u001b[1;33m       \u001b[1;32mreturn\u001b[0m \u001b[0mfn\u001b[0m\u001b[1;33m(\u001b[0m\u001b[1;33m*\u001b[0m\u001b[0margs\u001b[0m\u001b[1;33m)\u001b[0m\u001b[1;33m\u001b[0m\u001b[1;33m\u001b[0m\u001b[0m\n\u001b[0m\u001b[0;32m   1335\u001b[0m     \u001b[1;32mexcept\u001b[0m \u001b[0merrors\u001b[0m\u001b[1;33m.\u001b[0m\u001b[0mOpError\u001b[0m \u001b[1;32mas\u001b[0m \u001b[0me\u001b[0m\u001b[1;33m:\u001b[0m\u001b[1;33m\u001b[0m\u001b[1;33m\u001b[0m\u001b[0m\n",
      "\u001b[1;32mD:\\Users\\micha\\Anaconda3\\envs\\tensorflow_env\\lib\\site-packages\\tensorflow\\python\\client\\session.py\u001b[0m in \u001b[0;36m_run_fn\u001b[1;34m(feed_dict, fetch_list, target_list, options, run_metadata)\u001b[0m\n\u001b[0;32m   1318\u001b[0m       return self._call_tf_sessionrun(\n\u001b[1;32m-> 1319\u001b[1;33m           options, feed_dict, fetch_list, target_list, run_metadata)\n\u001b[0m\u001b[0;32m   1320\u001b[0m \u001b[1;33m\u001b[0m\u001b[0m\n",
      "\u001b[1;32mD:\\Users\\micha\\Anaconda3\\envs\\tensorflow_env\\lib\\site-packages\\tensorflow\\python\\client\\session.py\u001b[0m in \u001b[0;36m_call_tf_sessionrun\u001b[1;34m(self, options, feed_dict, fetch_list, target_list, run_metadata)\u001b[0m\n\u001b[0;32m   1406\u001b[0m         \u001b[0mself\u001b[0m\u001b[1;33m.\u001b[0m\u001b[0m_session\u001b[0m\u001b[1;33m,\u001b[0m \u001b[0moptions\u001b[0m\u001b[1;33m,\u001b[0m \u001b[0mfeed_dict\u001b[0m\u001b[1;33m,\u001b[0m \u001b[0mfetch_list\u001b[0m\u001b[1;33m,\u001b[0m \u001b[0mtarget_list\u001b[0m\u001b[1;33m,\u001b[0m\u001b[1;33m\u001b[0m\u001b[1;33m\u001b[0m\u001b[0m\n\u001b[1;32m-> 1407\u001b[1;33m         run_metadata)\n\u001b[0m\u001b[0;32m   1408\u001b[0m \u001b[1;33m\u001b[0m\u001b[0m\n",
      "\u001b[1;31mResourceExhaustedError\u001b[0m: OOM when allocating tensor with shape[1,64,256,256] and type float on /job:localhost/replica:0/task:0/device:GPU:0 by allocator GPU_0_bfc\n\t [[{{node Gs_19/_Run/Gs/G_synthesis/cond/cond/cond/cond/cond/256x256/Conv0_up/conv2d_transpose}}]]\nHint: If you want to see a list of allocated tensors when OOM happens, add report_tensor_allocations_upon_oom to RunOptions for current allocation info.\n\n\t [[{{node Gs_19/_Run/saturate_cast}}]]\nHint: If you want to see a list of allocated tensors when OOM happens, add report_tensor_allocations_upon_oom to RunOptions for current allocation info.\n",
      "\nDuring handling of the above exception, another exception occurred:\n",
      "\u001b[1;31mResourceExhaustedError\u001b[0m                    Traceback (most recent call last)",
      "\u001b[1;32m<ipython-input-2-d3f2a2f9d552>\u001b[0m in \u001b[0;36m<module>\u001b[1;34m\u001b[0m\n\u001b[0;32m     80\u001b[0m \u001b[1;33m\u001b[0m\u001b[0m\n\u001b[0;32m     81\u001b[0m \u001b[1;32mif\u001b[0m \u001b[0m__name__\u001b[0m \u001b[1;33m==\u001b[0m \u001b[1;34m\"__main__\"\u001b[0m\u001b[1;33m:\u001b[0m\u001b[1;33m\u001b[0m\u001b[1;33m\u001b[0m\u001b[0m\n\u001b[1;32m---> 82\u001b[1;33m     \u001b[0mmain\u001b[0m\u001b[1;33m(\u001b[0m\u001b[1;33m)\u001b[0m\u001b[1;33m\u001b[0m\u001b[1;33m\u001b[0m\u001b[0m\n\u001b[0m",
      "\u001b[1;32m<ipython-input-2-d3f2a2f9d552>\u001b[0m in \u001b[0;36mmain\u001b[1;34m()\u001b[0m\n\u001b[0;32m     68\u001b[0m             \u001b[1;32mreturn\u001b[0m \u001b[0marray_list\u001b[0m\u001b[1;33m\u001b[0m\u001b[1;33m\u001b[0m\u001b[0m\n\u001b[0;32m     69\u001b[0m \u001b[1;33m\u001b[0m\u001b[0m\n\u001b[1;32m---> 70\u001b[1;33m         \u001b[0mframes\u001b[0m \u001b[1;33m=\u001b[0m \u001b[0mgenerate_from_generator_adaptive\u001b[0m\u001b[1;33m(\u001b[0m\u001b[0mcirc_generator\u001b[0m\u001b[1;33m)\u001b[0m\u001b[1;33m\u001b[0m\u001b[1;33m\u001b[0m\u001b[0m\n\u001b[0m\u001b[0;32m     71\u001b[0m         \u001b[0mframes\u001b[0m \u001b[1;33m=\u001b[0m \u001b[0mmoviepy\u001b[0m\u001b[1;33m.\u001b[0m\u001b[0meditor\u001b[0m\u001b[1;33m.\u001b[0m\u001b[0mImageSequenceClip\u001b[0m\u001b[1;33m(\u001b[0m\u001b[0mframes\u001b[0m\u001b[1;33m,\u001b[0m \u001b[0mfps\u001b[0m\u001b[1;33m=\u001b[0m\u001b[1;36m40\u001b[0m\u001b[1;33m)\u001b[0m\u001b[1;33m\u001b[0m\u001b[1;33m\u001b[0m\u001b[0m\n\u001b[0;32m     72\u001b[0m \u001b[1;33m\u001b[0m\u001b[0m\n",
      "\u001b[1;32m<ipython-input-2-d3f2a2f9d552>\u001b[0m in \u001b[0;36mgenerate_from_generator_adaptive\u001b[1;34m(gen_func)\u001b[0m\n\u001b[0;32m     37\u001b[0m \u001b[1;33m\u001b[0m\u001b[0m\n\u001b[0;32m     38\u001b[0m             \u001b[0mcurrent_latent\u001b[0m \u001b[1;33m=\u001b[0m \u001b[0mgen_func\u001b[0m\u001b[1;33m(\u001b[0m\u001b[0mcurrent_pos\u001b[0m\u001b[1;33m)\u001b[0m\u001b[1;33m\u001b[0m\u001b[1;33m\u001b[0m\u001b[0m\n\u001b[1;32m---> 39\u001b[1;33m             \u001b[0mcurrent_image\u001b[0m \u001b[1;33m=\u001b[0m \u001b[0mGs\u001b[0m\u001b[1;33m.\u001b[0m\u001b[0mrun\u001b[0m\u001b[1;33m(\u001b[0m\u001b[0mcurrent_latent\u001b[0m\u001b[1;33m,\u001b[0m \u001b[1;32mNone\u001b[0m\u001b[1;33m,\u001b[0m \u001b[0mtruncation_psi\u001b[0m\u001b[1;33m=\u001b[0m\u001b[1;36m0.7\u001b[0m\u001b[1;33m,\u001b[0m \u001b[0mrandomize_noise\u001b[0m\u001b[1;33m=\u001b[0m\u001b[1;32mFalse\u001b[0m\u001b[1;33m,\u001b[0m \u001b[0moutput_transform\u001b[0m\u001b[1;33m=\u001b[0m\u001b[0mfmt\u001b[0m\u001b[1;33m)\u001b[0m\u001b[1;33m[\u001b[0m\u001b[1;36m0\u001b[0m\u001b[1;33m]\u001b[0m\u001b[1;33m\u001b[0m\u001b[1;33m\u001b[0m\u001b[0m\n\u001b[0m\u001b[0;32m     40\u001b[0m             \u001b[0marray_list\u001b[0m \u001b[1;33m=\u001b[0m \u001b[1;33m[\u001b[0m\u001b[1;33m]\u001b[0m\u001b[1;33m\u001b[0m\u001b[1;33m\u001b[0m\u001b[0m\n\u001b[0;32m     41\u001b[0m \u001b[1;33m\u001b[0m\u001b[0m\n",
      "\u001b[1;32m~\\Desktop\\projects\\stylegan\\dnnlib\\tflib\\network.py\u001b[0m in \u001b[0;36mrun\u001b[1;34m(self, input_transform, output_transform, return_as_list, print_progress, minibatch_size, num_gpus, assume_frozen, *in_arrays, **dynamic_kwargs)\u001b[0m\n\u001b[0;32m    441\u001b[0m             \u001b[0mmb_num\u001b[0m \u001b[1;33m=\u001b[0m \u001b[0mmb_end\u001b[0m \u001b[1;33m-\u001b[0m \u001b[0mmb_begin\u001b[0m\u001b[1;33m\u001b[0m\u001b[1;33m\u001b[0m\u001b[0m\n\u001b[0;32m    442\u001b[0m             \u001b[0mmb_in\u001b[0m \u001b[1;33m=\u001b[0m \u001b[1;33m[\u001b[0m\u001b[0msrc\u001b[0m\u001b[1;33m[\u001b[0m\u001b[0mmb_begin\u001b[0m \u001b[1;33m:\u001b[0m \u001b[0mmb_end\u001b[0m\u001b[1;33m]\u001b[0m \u001b[1;32mif\u001b[0m \u001b[0msrc\u001b[0m \u001b[1;32mis\u001b[0m \u001b[1;32mnot\u001b[0m \u001b[1;32mNone\u001b[0m \u001b[1;32melse\u001b[0m \u001b[0mnp\u001b[0m\u001b[1;33m.\u001b[0m\u001b[0mzeros\u001b[0m\u001b[1;33m(\u001b[0m\u001b[1;33m[\u001b[0m\u001b[0mmb_num\u001b[0m\u001b[1;33m]\u001b[0m \u001b[1;33m+\u001b[0m \u001b[0mshape\u001b[0m\u001b[1;33m[\u001b[0m\u001b[1;36m1\u001b[0m\u001b[1;33m:\u001b[0m\u001b[1;33m]\u001b[0m\u001b[1;33m)\u001b[0m \u001b[1;32mfor\u001b[0m \u001b[0msrc\u001b[0m\u001b[1;33m,\u001b[0m \u001b[0mshape\u001b[0m \u001b[1;32min\u001b[0m \u001b[0mzip\u001b[0m\u001b[1;33m(\u001b[0m\u001b[0min_arrays\u001b[0m\u001b[1;33m,\u001b[0m \u001b[0mself\u001b[0m\u001b[1;33m.\u001b[0m\u001b[0minput_shapes\u001b[0m\u001b[1;33m)\u001b[0m\u001b[1;33m]\u001b[0m\u001b[1;33m\u001b[0m\u001b[1;33m\u001b[0m\u001b[0m\n\u001b[1;32m--> 443\u001b[1;33m             \u001b[0mmb_out\u001b[0m \u001b[1;33m=\u001b[0m \u001b[0mtf\u001b[0m\u001b[1;33m.\u001b[0m\u001b[0mget_default_session\u001b[0m\u001b[1;33m(\u001b[0m\u001b[1;33m)\u001b[0m\u001b[1;33m.\u001b[0m\u001b[0mrun\u001b[0m\u001b[1;33m(\u001b[0m\u001b[0mout_expr\u001b[0m\u001b[1;33m,\u001b[0m \u001b[0mdict\u001b[0m\u001b[1;33m(\u001b[0m\u001b[0mzip\u001b[0m\u001b[1;33m(\u001b[0m\u001b[0min_expr\u001b[0m\u001b[1;33m,\u001b[0m \u001b[0mmb_in\u001b[0m\u001b[1;33m)\u001b[0m\u001b[1;33m)\u001b[0m\u001b[1;33m)\u001b[0m\u001b[1;33m\u001b[0m\u001b[1;33m\u001b[0m\u001b[0m\n\u001b[0m\u001b[0;32m    444\u001b[0m \u001b[1;33m\u001b[0m\u001b[0m\n\u001b[0;32m    445\u001b[0m             \u001b[1;32mfor\u001b[0m \u001b[0mdst\u001b[0m\u001b[1;33m,\u001b[0m \u001b[0msrc\u001b[0m \u001b[1;32min\u001b[0m \u001b[0mzip\u001b[0m\u001b[1;33m(\u001b[0m\u001b[0mout_arrays\u001b[0m\u001b[1;33m,\u001b[0m \u001b[0mmb_out\u001b[0m\u001b[1;33m)\u001b[0m\u001b[1;33m:\u001b[0m\u001b[1;33m\u001b[0m\u001b[1;33m\u001b[0m\u001b[0m\n",
      "\u001b[1;32mD:\\Users\\micha\\Anaconda3\\envs\\tensorflow_env\\lib\\site-packages\\tensorflow\\python\\client\\session.py\u001b[0m in \u001b[0;36mrun\u001b[1;34m(self, fetches, feed_dict, options, run_metadata)\u001b[0m\n\u001b[0;32m    927\u001b[0m     \u001b[1;32mtry\u001b[0m\u001b[1;33m:\u001b[0m\u001b[1;33m\u001b[0m\u001b[1;33m\u001b[0m\u001b[0m\n\u001b[0;32m    928\u001b[0m       result = self._run(None, fetches, feed_dict, options_ptr,\n\u001b[1;32m--> 929\u001b[1;33m                          run_metadata_ptr)\n\u001b[0m\u001b[0;32m    930\u001b[0m       \u001b[1;32mif\u001b[0m \u001b[0mrun_metadata\u001b[0m\u001b[1;33m:\u001b[0m\u001b[1;33m\u001b[0m\u001b[1;33m\u001b[0m\u001b[0m\n\u001b[0;32m    931\u001b[0m         \u001b[0mproto_data\u001b[0m \u001b[1;33m=\u001b[0m \u001b[0mtf_session\u001b[0m\u001b[1;33m.\u001b[0m\u001b[0mTF_GetBuffer\u001b[0m\u001b[1;33m(\u001b[0m\u001b[0mrun_metadata_ptr\u001b[0m\u001b[1;33m)\u001b[0m\u001b[1;33m\u001b[0m\u001b[1;33m\u001b[0m\u001b[0m\n",
      "\u001b[1;32mD:\\Users\\micha\\Anaconda3\\envs\\tensorflow_env\\lib\\site-packages\\tensorflow\\python\\client\\session.py\u001b[0m in \u001b[0;36m_run\u001b[1;34m(self, handle, fetches, feed_dict, options, run_metadata)\u001b[0m\n\u001b[0;32m   1150\u001b[0m     \u001b[1;32mif\u001b[0m \u001b[0mfinal_fetches\u001b[0m \u001b[1;32mor\u001b[0m \u001b[0mfinal_targets\u001b[0m \u001b[1;32mor\u001b[0m \u001b[1;33m(\u001b[0m\u001b[0mhandle\u001b[0m \u001b[1;32mand\u001b[0m \u001b[0mfeed_dict_tensor\u001b[0m\u001b[1;33m)\u001b[0m\u001b[1;33m:\u001b[0m\u001b[1;33m\u001b[0m\u001b[1;33m\u001b[0m\u001b[0m\n\u001b[0;32m   1151\u001b[0m       results = self._do_run(handle, final_targets, final_fetches,\n\u001b[1;32m-> 1152\u001b[1;33m                              feed_dict_tensor, options, run_metadata)\n\u001b[0m\u001b[0;32m   1153\u001b[0m     \u001b[1;32melse\u001b[0m\u001b[1;33m:\u001b[0m\u001b[1;33m\u001b[0m\u001b[1;33m\u001b[0m\u001b[0m\n\u001b[0;32m   1154\u001b[0m       \u001b[0mresults\u001b[0m \u001b[1;33m=\u001b[0m \u001b[1;33m[\u001b[0m\u001b[1;33m]\u001b[0m\u001b[1;33m\u001b[0m\u001b[1;33m\u001b[0m\u001b[0m\n",
      "\u001b[1;32mD:\\Users\\micha\\Anaconda3\\envs\\tensorflow_env\\lib\\site-packages\\tensorflow\\python\\client\\session.py\u001b[0m in \u001b[0;36m_do_run\u001b[1;34m(self, handle, target_list, fetch_list, feed_dict, options, run_metadata)\u001b[0m\n\u001b[0;32m   1326\u001b[0m     \u001b[1;32mif\u001b[0m \u001b[0mhandle\u001b[0m \u001b[1;32mis\u001b[0m \u001b[1;32mNone\u001b[0m\u001b[1;33m:\u001b[0m\u001b[1;33m\u001b[0m\u001b[1;33m\u001b[0m\u001b[0m\n\u001b[0;32m   1327\u001b[0m       return self._do_call(_run_fn, feeds, fetches, targets, options,\n\u001b[1;32m-> 1328\u001b[1;33m                            run_metadata)\n\u001b[0m\u001b[0;32m   1329\u001b[0m     \u001b[1;32melse\u001b[0m\u001b[1;33m:\u001b[0m\u001b[1;33m\u001b[0m\u001b[1;33m\u001b[0m\u001b[0m\n\u001b[0;32m   1330\u001b[0m       \u001b[1;32mreturn\u001b[0m \u001b[0mself\u001b[0m\u001b[1;33m.\u001b[0m\u001b[0m_do_call\u001b[0m\u001b[1;33m(\u001b[0m\u001b[0m_prun_fn\u001b[0m\u001b[1;33m,\u001b[0m \u001b[0mhandle\u001b[0m\u001b[1;33m,\u001b[0m \u001b[0mfeeds\u001b[0m\u001b[1;33m,\u001b[0m \u001b[0mfetches\u001b[0m\u001b[1;33m)\u001b[0m\u001b[1;33m\u001b[0m\u001b[1;33m\u001b[0m\u001b[0m\n",
      "\u001b[1;32mD:\\Users\\micha\\Anaconda3\\envs\\tensorflow_env\\lib\\site-packages\\tensorflow\\python\\client\\session.py\u001b[0m in \u001b[0;36m_do_call\u001b[1;34m(self, fn, *args)\u001b[0m\n\u001b[0;32m   1346\u001b[0m           \u001b[1;32mpass\u001b[0m\u001b[1;33m\u001b[0m\u001b[1;33m\u001b[0m\u001b[0m\n\u001b[0;32m   1347\u001b[0m       \u001b[0mmessage\u001b[0m \u001b[1;33m=\u001b[0m \u001b[0merror_interpolation\u001b[0m\u001b[1;33m.\u001b[0m\u001b[0minterpolate\u001b[0m\u001b[1;33m(\u001b[0m\u001b[0mmessage\u001b[0m\u001b[1;33m,\u001b[0m \u001b[0mself\u001b[0m\u001b[1;33m.\u001b[0m\u001b[0m_graph\u001b[0m\u001b[1;33m)\u001b[0m\u001b[1;33m\u001b[0m\u001b[1;33m\u001b[0m\u001b[0m\n\u001b[1;32m-> 1348\u001b[1;33m       \u001b[1;32mraise\u001b[0m \u001b[0mtype\u001b[0m\u001b[1;33m(\u001b[0m\u001b[0me\u001b[0m\u001b[1;33m)\u001b[0m\u001b[1;33m(\u001b[0m\u001b[0mnode_def\u001b[0m\u001b[1;33m,\u001b[0m \u001b[0mop\u001b[0m\u001b[1;33m,\u001b[0m \u001b[0mmessage\u001b[0m\u001b[1;33m)\u001b[0m\u001b[1;33m\u001b[0m\u001b[1;33m\u001b[0m\u001b[0m\n\u001b[0m\u001b[0;32m   1349\u001b[0m \u001b[1;33m\u001b[0m\u001b[0m\n\u001b[0;32m   1350\u001b[0m   \u001b[1;32mdef\u001b[0m \u001b[0m_extend_graph\u001b[0m\u001b[1;33m(\u001b[0m\u001b[0mself\u001b[0m\u001b[1;33m)\u001b[0m\u001b[1;33m:\u001b[0m\u001b[1;33m\u001b[0m\u001b[1;33m\u001b[0m\u001b[0m\n",
      "\u001b[1;31mResourceExhaustedError\u001b[0m: OOM when allocating tensor with shape[1,64,256,256] and type float on /job:localhost/replica:0/task:0/device:GPU:0 by allocator GPU_0_bfc\n\t [[node Gs_19/_Run/Gs/G_synthesis/cond/cond/cond/cond/cond/256x256/Conv0_up/conv2d_transpose (defined at <string>:191) ]]\nHint: If you want to see a list of allocated tensors when OOM happens, add report_tensor_allocations_upon_oom to RunOptions for current allocation info.\n\n\t [[node Gs_19/_Run/saturate_cast (defined at C:\\Users\\micha\\Desktop\\projects\\stylegan\\dnnlib\\tflib\\tfutil.py:240) ]]\nHint: If you want to see a list of allocated tensors when OOM happens, add report_tensor_allocations_upon_oom to RunOptions for current allocation info.\n\n\nCaused by op 'Gs_19/_Run/Gs/G_synthesis/cond/cond/cond/cond/cond/256x256/Conv0_up/conv2d_transpose', defined at:\n  File \"D:\\Users\\micha\\Anaconda3\\envs\\tensorflow_env\\lib\\runpy.py\", line 193, in _run_module_as_main\n    \"__main__\", mod_spec)\n  File \"D:\\Users\\micha\\Anaconda3\\envs\\tensorflow_env\\lib\\runpy.py\", line 85, in _run_code\n    exec(code, run_globals)\n  File \"D:\\Users\\micha\\Anaconda3\\envs\\tensorflow_env\\lib\\site-packages\\ipykernel_launcher.py\", line 16, in <module>\n    app.launch_new_instance()\n  File \"D:\\Users\\micha\\Anaconda3\\envs\\tensorflow_env\\lib\\site-packages\\traitlets\\config\\application.py\", line 658, in launch_instance\n    app.start()\n  File \"D:\\Users\\micha\\Anaconda3\\envs\\tensorflow_env\\lib\\site-packages\\ipykernel\\kernelapp.py\", line 505, in start\n    self.io_loop.start()\n  File \"D:\\Users\\micha\\Anaconda3\\envs\\tensorflow_env\\lib\\site-packages\\tornado\\platform\\asyncio.py\", line 148, in start\n    self.asyncio_loop.run_forever()\n  File \"D:\\Users\\micha\\Anaconda3\\envs\\tensorflow_env\\lib\\asyncio\\base_events.py\", line 539, in run_forever\n    self._run_once()\n  File \"D:\\Users\\micha\\Anaconda3\\envs\\tensorflow_env\\lib\\asyncio\\base_events.py\", line 1775, in _run_once\n    handle._run()\n  File \"D:\\Users\\micha\\Anaconda3\\envs\\tensorflow_env\\lib\\asyncio\\events.py\", line 88, in _run\n    self._context.run(self._callback, *self._args)\n  File \"D:\\Users\\micha\\Anaconda3\\envs\\tensorflow_env\\lib\\site-packages\\tornado\\ioloop.py\", line 690, in <lambda>\n    lambda f: self._run_callback(functools.partial(callback, future))\n  File \"D:\\Users\\micha\\Anaconda3\\envs\\tensorflow_env\\lib\\site-packages\\tornado\\ioloop.py\", line 743, in _run_callback\n    ret = callback()\n  File \"D:\\Users\\micha\\Anaconda3\\envs\\tensorflow_env\\lib\\site-packages\\tornado\\gen.py\", line 781, in inner\n    self.run()\n  File \"D:\\Users\\micha\\Anaconda3\\envs\\tensorflow_env\\lib\\site-packages\\tornado\\gen.py\", line 742, in run\n    yielded = self.gen.send(value)\n  File \"D:\\Users\\micha\\Anaconda3\\envs\\tensorflow_env\\lib\\site-packages\\ipykernel\\kernelbase.py\", line 370, in dispatch_queue\n    yield self.process_one()\n  File \"D:\\Users\\micha\\Anaconda3\\envs\\tensorflow_env\\lib\\site-packages\\tornado\\gen.py\", line 225, in wrapper\n    runner = Runner(result, future, yielded)\n  File \"D:\\Users\\micha\\Anaconda3\\envs\\tensorflow_env\\lib\\site-packages\\tornado\\gen.py\", line 708, in __init__\n    self.run()\n  File \"D:\\Users\\micha\\Anaconda3\\envs\\tensorflow_env\\lib\\site-packages\\tornado\\gen.py\", line 742, in run\n    yielded = self.gen.send(value)\n  File \"D:\\Users\\micha\\Anaconda3\\envs\\tensorflow_env\\lib\\site-packages\\ipykernel\\kernelbase.py\", line 357, in process_one\n    yield gen.maybe_future(dispatch(*args))\n  File \"D:\\Users\\micha\\Anaconda3\\envs\\tensorflow_env\\lib\\site-packages\\tornado\\gen.py\", line 209, in wrapper\n    yielded = next(result)\n  File \"D:\\Users\\micha\\Anaconda3\\envs\\tensorflow_env\\lib\\site-packages\\ipykernel\\kernelbase.py\", line 267, in dispatch_shell\n    yield gen.maybe_future(handler(stream, idents, msg))\n  File \"D:\\Users\\micha\\Anaconda3\\envs\\tensorflow_env\\lib\\site-packages\\tornado\\gen.py\", line 209, in wrapper\n    yielded = next(result)\n  File \"D:\\Users\\micha\\Anaconda3\\envs\\tensorflow_env\\lib\\site-packages\\ipykernel\\kernelbase.py\", line 534, in execute_request\n    user_expressions, allow_stdin,\n  File \"D:\\Users\\micha\\Anaconda3\\envs\\tensorflow_env\\lib\\site-packages\\tornado\\gen.py\", line 209, in wrapper\n    yielded = next(result)\n  File \"D:\\Users\\micha\\Anaconda3\\envs\\tensorflow_env\\lib\\site-packages\\ipykernel\\ipkernel.py\", line 294, in do_execute\n    res = shell.run_cell(code, store_history=store_history, silent=silent)\n  File \"D:\\Users\\micha\\Anaconda3\\envs\\tensorflow_env\\lib\\site-packages\\ipykernel\\zmqshell.py\", line 536, in run_cell\n    return super(ZMQInteractiveShell, self).run_cell(*args, **kwargs)\n  File \"D:\\Users\\micha\\Anaconda3\\envs\\tensorflow_env\\lib\\site-packages\\IPython\\core\\interactiveshell.py\", line 2848, in run_cell\n    raw_cell, store_history, silent, shell_futures)\n  File \"D:\\Users\\micha\\Anaconda3\\envs\\tensorflow_env\\lib\\site-packages\\IPython\\core\\interactiveshell.py\", line 2874, in _run_cell\n    return runner(coro)\n  File \"D:\\Users\\micha\\Anaconda3\\envs\\tensorflow_env\\lib\\site-packages\\IPython\\core\\async_helpers.py\", line 67, in _pseudo_sync_runner\n    coro.send(None)\n  File \"D:\\Users\\micha\\Anaconda3\\envs\\tensorflow_env\\lib\\site-packages\\IPython\\core\\interactiveshell.py\", line 3049, in run_cell_async\n    interactivity=interactivity, compiler=compiler, result=result)\n  File \"D:\\Users\\micha\\Anaconda3\\envs\\tensorflow_env\\lib\\site-packages\\IPython\\core\\interactiveshell.py\", line 3214, in run_ast_nodes\n    if (yield from self.run_code(code, result)):\n  File \"D:\\Users\\micha\\Anaconda3\\envs\\tensorflow_env\\lib\\site-packages\\IPython\\core\\interactiveshell.py\", line 3296, in run_code\n    exec(code_obj, self.user_global_ns, self.user_ns)\n  File \"<ipython-input-2-d3f2a2f9d552>\", line 82, in <module>\n    main()\n  File \"<ipython-input-2-d3f2a2f9d552>\", line 70, in main\n    frames = generate_from_generator_adaptive(circ_generator)\n  File \"<ipython-input-2-d3f2a2f9d552>\", line 39, in generate_from_generator_adaptive\n    current_image = Gs.run(current_latent, None, truncation_psi=0.7, randomize_noise=False, output_transform=fmt)[0]\n  File \"C:\\Users\\micha\\Desktop\\projects\\stylegan\\dnnlib\\tflib\\network.py\", line 418, in run\n    out_gpu = net_gpu.get_output_for(*in_gpu, return_as_list=True, **dynamic_kwargs)\n  File \"C:\\Users\\micha\\Desktop\\projects\\stylegan\\dnnlib\\tflib\\network.py\", line 222, in get_output_for\n    out_expr = self._build_func(*final_inputs, **build_kwargs)\n  File \"<string>\", line 378, in G_style\n  File \"C:\\Users\\micha\\Desktop\\projects\\stylegan\\dnnlib\\tflib\\network.py\", line 222, in get_output_for\n    out_expr = self._build_func(*final_inputs, **build_kwargs)\n  File \"<string>\", line 556, in G_synthesis\n  File \"<string>\", line 555, in grow\n  File \"<string>\", line 549, in <lambda>\n  File \"D:\\Users\\micha\\Anaconda3\\envs\\tensorflow_env\\lib\\site-packages\\tensorflow\\python\\util\\deprecation.py\", line 507, in new_func\n    return func(*args, **kwargs)\n  File \"D:\\Users\\micha\\Anaconda3\\envs\\tensorflow_env\\lib\\site-packages\\tensorflow\\python\\ops\\control_flow_ops.py\", line 2097, in cond\n    orig_res_t, res_t = context_t.BuildCondBranch(true_fn)\n  File \"D:\\Users\\micha\\Anaconda3\\envs\\tensorflow_env\\lib\\site-packages\\tensorflow\\python\\ops\\control_flow_ops.py\", line 1941, in BuildCondBranch\n    original_result = fn()\n  File \"<string>\", line 554, in <lambda>\n  File \"<string>\", line 555, in grow\n  File \"<string>\", line 549, in <lambda>\n  File \"D:\\Users\\micha\\Anaconda3\\envs\\tensorflow_env\\lib\\site-packages\\tensorflow\\python\\util\\deprecation.py\", line 507, in new_func\n    return func(*args, **kwargs)\n  File \"D:\\Users\\micha\\Anaconda3\\envs\\tensorflow_env\\lib\\site-packages\\tensorflow\\python\\ops\\control_flow_ops.py\", line 2097, in cond\n    orig_res_t, res_t = context_t.BuildCondBranch(true_fn)\n  File \"D:\\Users\\micha\\Anaconda3\\envs\\tensorflow_env\\lib\\site-packages\\tensorflow\\python\\ops\\control_flow_ops.py\", line 1941, in BuildCondBranch\n    original_result = fn()\n  File \"<string>\", line 554, in <lambda>\n  File \"<string>\", line 555, in grow\n  File \"<string>\", line 549, in <lambda>\n  File \"D:\\Users\\micha\\Anaconda3\\envs\\tensorflow_env\\lib\\site-packages\\tensorflow\\python\\util\\deprecation.py\", line 507, in new_func\n    return func(*args, **kwargs)\n  File \"D:\\Users\\micha\\Anaconda3\\envs\\tensorflow_env\\lib\\site-packages\\tensorflow\\python\\ops\\control_flow_ops.py\", line 2097, in cond\n    orig_res_t, res_t = context_t.BuildCondBranch(true_fn)\n  File \"D:\\Users\\micha\\Anaconda3\\envs\\tensorflow_env\\lib\\site-packages\\tensorflow\\python\\ops\\control_flow_ops.py\", line 1941, in BuildCondBranch\n    original_result = fn()\n  File \"<string>\", line 554, in <lambda>\n  File \"<string>\", line 555, in grow\n  File \"<string>\", line 549, in <lambda>\n  File \"D:\\Users\\micha\\Anaconda3\\envs\\tensorflow_env\\lib\\site-packages\\tensorflow\\python\\util\\deprecation.py\", line 507, in new_func\n    return func(*args, **kwargs)\n  File \"D:\\Users\\micha\\Anaconda3\\envs\\tensorflow_env\\lib\\site-packages\\tensorflow\\python\\ops\\control_flow_ops.py\", line 2097, in cond\n    orig_res_t, res_t = context_t.BuildCondBranch(true_fn)\n  File \"D:\\Users\\micha\\Anaconda3\\envs\\tensorflow_env\\lib\\site-packages\\tensorflow\\python\\ops\\control_flow_ops.py\", line 1941, in BuildCondBranch\n    original_result = fn()\n  File \"<string>\", line 554, in <lambda>\n  File \"<string>\", line 555, in grow\n  File \"<string>\", line 549, in <lambda>\n  File \"D:\\Users\\micha\\Anaconda3\\envs\\tensorflow_env\\lib\\site-packages\\tensorflow\\python\\util\\deprecation.py\", line 507, in new_func\n    return func(*args, **kwargs)\n  File \"D:\\Users\\micha\\Anaconda3\\envs\\tensorflow_env\\lib\\site-packages\\tensorflow\\python\\ops\\control_flow_ops.py\", line 2097, in cond\n    orig_res_t, res_t = context_t.BuildCondBranch(true_fn)\n  File \"D:\\Users\\micha\\Anaconda3\\envs\\tensorflow_env\\lib\\site-packages\\tensorflow\\python\\ops\\control_flow_ops.py\", line 1941, in BuildCondBranch\n    original_result = fn()\n  File \"<string>\", line 554, in <lambda>\n  File \"<string>\", line 551, in grow\n  File \"<string>\", line 520, in block\n  File \"<string>\", line 191, in upscale2d_conv2d\n  File \"D:\\Users\\micha\\Anaconda3\\envs\\tensorflow_env\\lib\\site-packages\\tensorflow\\python\\ops\\nn_ops.py\", line 1654, in conv2d_transpose\n    name=name)\n  File \"D:\\Users\\micha\\Anaconda3\\envs\\tensorflow_env\\lib\\site-packages\\tensorflow\\python\\ops\\gen_nn_ops.py\", line 1307, in conv2d_backprop_input\n    name=name)\n  File \"D:\\Users\\micha\\Anaconda3\\envs\\tensorflow_env\\lib\\site-packages\\tensorflow\\python\\framework\\op_def_library.py\", line 788, in _apply_op_helper\n    op_def=op_def)\n  File \"D:\\Users\\micha\\Anaconda3\\envs\\tensorflow_env\\lib\\site-packages\\tensorflow\\python\\util\\deprecation.py\", line 507, in new_func\n    return func(*args, **kwargs)\n  File \"D:\\Users\\micha\\Anaconda3\\envs\\tensorflow_env\\lib\\site-packages\\tensorflow\\python\\framework\\ops.py\", line 3300, in create_op\n    op_def=op_def)\n  File \"D:\\Users\\micha\\Anaconda3\\envs\\tensorflow_env\\lib\\site-packages\\tensorflow\\python\\framework\\ops.py\", line 1801, in __init__\n    self._traceback = tf_stack.extract_stack()\n\nResourceExhaustedError (see above for traceback): OOM when allocating tensor with shape[1,64,256,256] and type float on /job:localhost/replica:0/task:0/device:GPU:0 by allocator GPU_0_bfc\n\t [[node Gs_19/_Run/Gs/G_synthesis/cond/cond/cond/cond/cond/256x256/Conv0_up/conv2d_transpose (defined at <string>:191) ]]\nHint: If you want to see a list of allocated tensors when OOM happens, add report_tensor_allocations_upon_oom to RunOptions for current allocation info.\n\n\t [[node Gs_19/_Run/saturate_cast (defined at C:\\Users\\micha\\Desktop\\projects\\stylegan\\dnnlib\\tflib\\tfutil.py:240) ]]\nHint: If you want to see a list of allocated tensors when OOM happens, add report_tensor_allocations_upon_oom to RunOptions for current allocation info.\n\n"
     ]
    }
   ],
   "source": [
    "\n",
    "\n",
    "def main():\n",
    "    for i in range(30):\n",
    "        print('on round',i)\n",
    "        tflib.init_tf()\n",
    "        _G, _D, Gs = pickle.load(open(\"results/00030-sgan-GoT-1gpu/network-snapshot-010720.pkl\", \"rb\"))\n",
    "\n",
    "        rnd = np.random\n",
    "        latents_a = rnd.randn(1, Gs.input_shape[1])\n",
    "        latents_b = rnd.randn(1, Gs.input_shape[1])\n",
    "        latents_c = rnd.randn(1, Gs.input_shape[1])\n",
    "\n",
    "        def circ_generator(latents_interpolate):\n",
    "            radius = 40.0\n",
    "\n",
    "            latents_axis_x = (latents_a - latents_b).flatten() / linalg.norm(latents_a - latents_b)\n",
    "            latents_axis_y = (latents_a - latents_c).flatten() / linalg.norm(latents_a - latents_c)\n",
    "\n",
    "            latents_x = math.sin(math.pi * 2.0 * latents_interpolate) * radius\n",
    "            latents_y = math.cos(math.pi * 2.0 * latents_interpolate) * radius\n",
    "\n",
    "            latents = latents_a + latents_x * latents_axis_x + latents_y * latents_axis_y\n",
    "            return latents\n",
    "\n",
    "        def mse(x, y):\n",
    "            return (np.square(x - y)).mean()\n",
    "\n",
    "        def generate_from_generator_adaptive(gen_func):\n",
    "            max_step = 1.0\n",
    "            current_pos = 0.0\n",
    "\n",
    "            change_min = 10.0\n",
    "            change_max = 11.0\n",
    "\n",
    "            fmt = dict(func=tflib.convert_images_to_uint8, nchw_to_nhwc=True)\n",
    "\n",
    "            current_latent = gen_func(current_pos)\n",
    "            current_image = Gs.run(current_latent, None, truncation_psi=0.7, randomize_noise=False, output_transform=fmt)[0]\n",
    "            array_list = []\n",
    "\n",
    "            video_length = 1.5\n",
    "            while(current_pos < video_length):\n",
    "                array_list.append(current_image)\n",
    "\n",
    "                lower = current_pos\n",
    "                upper = current_pos + max_step\n",
    "                current_pos = (upper + lower) / 2.0\n",
    "\n",
    "                current_latent = gen_func(current_pos)\n",
    "                current_image = images = Gs.run(current_latent, None, truncation_psi=0.7, randomize_noise=False, output_transform=fmt)[0]\n",
    "                current_mse = mse(array_list[-1], current_image)\n",
    "\n",
    "                while current_mse < change_min or current_mse > change_max:\n",
    "                    if current_mse < change_min:\n",
    "                        lower = current_pos\n",
    "                        current_pos = (upper + lower) / 2.0\n",
    "\n",
    "                    if current_mse > change_max:\n",
    "                        upper = current_pos\n",
    "                        current_pos = (upper + lower) / 2.0\n",
    "\n",
    "\n",
    "                    current_latent = gen_func(current_pos)\n",
    "                    current_image = images = Gs.run(current_latent, None, truncation_psi=0.7, randomize_noise=False, output_transform=fmt)[0]\n",
    "                    current_mse = mse(array_list[-1], current_image)\n",
    "                #print(current_pos, current_mse)\n",
    "            return array_list\n",
    "\n",
    "        frames = generate_from_generator_adaptive(circ_generator)\n",
    "        frames = moviepy.editor.ImageSequenceClip(frames, fps=40)\n",
    "\n",
    "        # Generate video.\n",
    "        mp4_file = 'GoT_videos/second_round2_'+str(i)+'.mp4'\n",
    "        mp4_codec = 'libx264'\n",
    "        mp4_bitrate = '3M'\n",
    "        mp4_fps = 40\n",
    "\n",
    "        frames.write_videofile(mp4_file, fps=mp4_fps, codec=mp4_codec, bitrate=mp4_bitrate)\n",
    "\n",
    "if __name__ == \"__main__\":\n",
    "    main()"
   ]
  },
  {
   "cell_type": "code",
   "execution_count": null,
   "metadata": {},
   "outputs": [],
   "source": []
  }
 ],
 "metadata": {
  "kernelspec": {
   "display_name": "Python [conda env:tensorflow_env] *",
   "language": "python",
   "name": "conda-env-tensorflow_env-py"
  },
  "language_info": {
   "codemirror_mode": {
    "name": "ipython",
    "version": 3
   },
   "file_extension": ".py",
   "mimetype": "text/x-python",
   "name": "python",
   "nbconvert_exporter": "python",
   "pygments_lexer": "ipython3",
   "version": "3.7.3"
  }
 },
 "nbformat": 4,
 "nbformat_minor": 2
}
